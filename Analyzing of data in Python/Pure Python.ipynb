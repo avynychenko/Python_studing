{
 "cells": [
  {
   "cell_type": "markdown",
   "metadata": {},
   "source": [
    "## Load Data from CSVs"
   ]
  },
  {
   "cell_type": "code",
   "execution_count": 1,
   "metadata": {},
   "outputs": [],
   "source": [
    "import unicodecsv\n",
    "\n",
    "def read_file(filename):\n",
    "    with open(filename, 'rb') as f:\n",
    "        reader = unicodecsv.DictReader(f)\n",
    "        return list(reader)\n",
    "\n",
    "enrollments = read_file('enrollments.csv')\n",
    "\n"
   ]
  },
  {
   "cell_type": "code",
   "execution_count": 2,
   "metadata": {},
   "outputs": [
    {
     "name": "stdout",
     "output_type": "stream",
     "text": [
      "OrderedDict([('acct', '0'), ('utc_date', '2015-01-09'), ('num_courses_visited', '1.0'), ('total_minutes_visited', '11.6793745'), ('lessons_completed', '0.0'), ('projects_completed', '0.0')])\n",
      "OrderedDict([('creation_date', '2015-01-14'), ('completion_date', '2015-01-16'), ('assigned_rating', 'UNGRADED'), ('account_key', '256'), ('lesson_key', '3176718735'), ('processing_state', 'EVALUATED')])\n"
     ]
    }
   ],
   "source": [
    "#####################################\n",
    "#                 1                 #\n",
    "#####################################\n",
    "\n",
    "## Read in the data from daily_engagement.csv and project_submissions.csv \n",
    "## and store the results in the below variables.\n",
    "## Then look at the first row of each table.\n",
    "\n",
    "daily_engagement = read_file('daily_engagement.csv')\n",
    "project_submissions = read_file('project_submissions.csv')\n",
    "print(daily_engagement[0])\n",
    "print(project_submissions[0])"
   ]
  },
  {
   "cell_type": "markdown",
   "metadata": {},
   "source": [
    "## Fixing Data Types"
   ]
  },
  {
   "cell_type": "code",
   "execution_count": 3,
   "metadata": {},
   "outputs": [
    {
     "data": {
      "text/plain": [
       "OrderedDict([('account_key', '448'),\n",
       "             ('status', 'canceled'),\n",
       "             ('join_date', datetime.datetime(2014, 11, 10, 0, 0)),\n",
       "             ('cancel_date', datetime.datetime(2015, 1, 14, 0, 0)),\n",
       "             ('days_to_cancel', 65),\n",
       "             ('is_udacity', True),\n",
       "             ('is_canceled', True)])"
      ]
     },
     "execution_count": 3,
     "metadata": {},
     "output_type": "execute_result"
    }
   ],
   "source": [
    "from datetime import datetime as dt\n",
    "\n",
    "# Takes a date as a string, and returns a Python datetime object. \n",
    "# If there is no date given, returns None\n",
    "def parse_date(date):\n",
    "    if date == '':\n",
    "        return None\n",
    "    else:\n",
    "        return dt.strptime(date, '%Y-%m-%d')\n",
    "    \n",
    "# Takes a string which is either an empty string or represents an integer,\n",
    "# and returns an int or None.\n",
    "def parse_maybe_int(i):\n",
    "    if i == '':\n",
    "        return None\n",
    "    else:\n",
    "        return int(i)\n",
    "\n",
    "# Clean up the data types in the enrollments table\n",
    "for enrollment in enrollments:\n",
    "    enrollment['cancel_date'] = parse_date(enrollment['cancel_date'])\n",
    "    enrollment['days_to_cancel'] = parse_maybe_int(enrollment['days_to_cancel'])\n",
    "    enrollment['is_canceled'] = enrollment['is_canceled'] == 'True'\n",
    "    enrollment['is_udacity'] = enrollment['is_udacity'] == 'True'\n",
    "    enrollment['join_date'] = parse_date(enrollment['join_date'])\n",
    "    \n",
    "enrollments[0]"
   ]
  },
  {
   "cell_type": "code",
   "execution_count": 4,
   "metadata": {},
   "outputs": [
    {
     "data": {
      "text/plain": [
       "OrderedDict([('acct', '0'),\n",
       "             ('utc_date', datetime.datetime(2015, 1, 9, 0, 0)),\n",
       "             ('num_courses_visited', 1),\n",
       "             ('total_minutes_visited', 11.6793745),\n",
       "             ('lessons_completed', 0),\n",
       "             ('projects_completed', 0)])"
      ]
     },
     "execution_count": 4,
     "metadata": {},
     "output_type": "execute_result"
    }
   ],
   "source": [
    "# Clean up the data types in the engagement table\n",
    "for engagement_record in daily_engagement:\n",
    "    engagement_record['lessons_completed'] = int(float(engagement_record['lessons_completed']))\n",
    "    engagement_record['num_courses_visited'] = int(float(engagement_record['num_courses_visited']))\n",
    "    engagement_record['projects_completed'] = int(float(engagement_record['projects_completed']))\n",
    "    engagement_record['total_minutes_visited'] = float(engagement_record['total_minutes_visited'])\n",
    "    engagement_record['utc_date'] = parse_date(engagement_record['utc_date'])\n",
    "    \n",
    "daily_engagement[0]"
   ]
  },
  {
   "cell_type": "code",
   "execution_count": 5,
   "metadata": {},
   "outputs": [
    {
     "data": {
      "text/plain": [
       "OrderedDict([('creation_date', datetime.datetime(2015, 1, 14, 0, 0)),\n",
       "             ('completion_date', datetime.datetime(2015, 1, 16, 0, 0)),\n",
       "             ('assigned_rating', 'UNGRADED'),\n",
       "             ('account_key', '256'),\n",
       "             ('lesson_key', '3176718735'),\n",
       "             ('processing_state', 'EVALUATED')])"
      ]
     },
     "execution_count": 5,
     "metadata": {},
     "output_type": "execute_result"
    }
   ],
   "source": [
    "# Clean up the data types in the submissions table\n",
    "for submission in project_submissions:\n",
    "    submission['completion_date'] = parse_date(submission['completion_date'])\n",
    "    submission['creation_date'] = parse_date(submission['creation_date'])\n",
    "\n",
    "project_submissions[0]"
   ]
  },
  {
   "cell_type": "markdown",
   "metadata": {},
   "source": [
    "## Investigating the Data"
   ]
  },
  {
   "cell_type": "code",
   "execution_count": 6,
   "metadata": {},
   "outputs": [
    {
     "name": "stdout",
     "output_type": "stream",
     "text": [
      "1640\n",
      "136240\n",
      "3642\n"
     ]
    }
   ],
   "source": [
    "#####################################\n",
    "#                 2                 #\n",
    "#####################################\n",
    "\n",
    "## Find the total number of rows in each table.\n",
    "# Number of rows\n",
    "print(len(enrollments))\n",
    "print(len(daily_engagement))\n",
    "print(len(project_submissions))"
   ]
  },
  {
   "cell_type": "markdown",
   "metadata": {},
   "source": [
    "## Problems in the Data"
   ]
  },
  {
   "cell_type": "code",
   "execution_count": 7,
   "metadata": {},
   "outputs": [
    {
     "name": "stdout",
     "output_type": "stream",
     "text": [
      "0\n"
     ]
    }
   ],
   "source": [
    "#####################################\n",
    "#                 3                 #\n",
    "#####################################\n",
    "\n",
    "## Rename the \"acct\" column in the daily_engagement table to \"account_key\".\n",
    "for i in daily_engagement:\n",
    "    i['account_key'] = i.pop('acct')\n",
    "print(daily_engagement[0]['account_key'])"
   ]
  },
  {
   "cell_type": "code",
   "execution_count": 8,
   "metadata": {},
   "outputs": [
    {
     "name": "stdout",
     "output_type": "stream",
     "text": [
      "1302\n",
      "743\n",
      "1237\n"
     ]
    }
   ],
   "source": [
    "## Find the total number of unique students in each table.\n",
    "\n",
    "def unique(data):\n",
    "    unique_enrollments = set()\n",
    "    for i in data:\n",
    "        for key in i:\n",
    "            if key == 'account_key':\n",
    "                unique_enrollments.add(i[key])\n",
    "    return(unique_enrollments)\n",
    "\n",
    "        \n",
    "print(len(unique(enrollments)))\n",
    "print(len(unique(project_submissions)))\n",
    "print(len(unique(daily_engagement)))"
   ]
  },
  {
   "cell_type": "markdown",
   "metadata": {},
   "source": [
    "## Missing Engagement Records"
   ]
  },
  {
   "cell_type": "code",
   "execution_count": 9,
   "metadata": {},
   "outputs": [
    {
     "name": "stdout",
     "output_type": "stream",
     "text": [
      "65\n"
     ]
    }
   ],
   "source": [
    "#####################################\n",
    "#                 4                 #\n",
    "#####################################\n",
    "\n",
    "## Find any one student enrollments where the student is missing from the daily engagement table.\n",
    "## Output that enrollment.\n",
    "data = set()\n",
    "for i in unique(enrollments):\n",
    "    if i not in unique(daily_engagement):\n",
    "        data.add(i)\n",
    "print(len(data))"
   ]
  },
  {
   "cell_type": "code",
   "execution_count": 100,
   "metadata": {},
   "outputs": [
    {
     "name": "stdout",
     "output_type": "stream",
     "text": [
      "OrderedDict([('account_key', '1304'), ('status', 'canceled'), ('join_date', datetime.datetime(2015, 1, 10, 0, 0)), ('cancel_date', datetime.datetime(2015, 3, 10, 0, 0)), ('days_to_cancel', 59), ('is_udacity', True), ('is_canceled', True)])\n",
      "OrderedDict([('account_key', '1304'), ('status', 'canceled'), ('join_date', datetime.datetime(2015, 3, 10, 0, 0)), ('cancel_date', datetime.datetime(2015, 6, 17, 0, 0)), ('days_to_cancel', 99), ('is_udacity', True), ('is_canceled', True)])\n",
      "OrderedDict([('account_key', '1101'), ('status', 'current'), ('join_date', datetime.datetime(2015, 2, 25, 0, 0)), ('cancel_date', None), ('days_to_cancel', None), ('is_udacity', True), ('is_canceled', False)])\n",
      "3\n"
     ]
    }
   ],
   "source": [
    "\n",
    "    "
   ]
  },
  {
   "cell_type": "markdown",
   "metadata": {},
   "source": [
    "## Checking for More Problem Records"
   ]
  },
  {
   "cell_type": "code",
   "execution_count": 10,
   "metadata": {},
   "outputs": [
    {
     "name": "stdout",
     "output_type": "stream",
     "text": [
      "OrderedDict([('account_key', '1304'), ('status', 'canceled'), ('join_date', datetime.datetime(2015, 1, 10, 0, 0)), ('cancel_date', datetime.datetime(2015, 3, 10, 0, 0)), ('days_to_cancel', 59), ('is_udacity', True), ('is_canceled', True)])\n",
      "OrderedDict([('account_key', '1304'), ('status', 'canceled'), ('join_date', datetime.datetime(2015, 3, 10, 0, 0)), ('cancel_date', datetime.datetime(2015, 6, 17, 0, 0)), ('days_to_cancel', 99), ('is_udacity', True), ('is_canceled', True)])\n",
      "OrderedDict([('account_key', '1101'), ('status', 'current'), ('join_date', datetime.datetime(2015, 2, 25, 0, 0)), ('cancel_date', None), ('days_to_cancel', None), ('is_udacity', True), ('is_canceled', False)])\n",
      "3\n"
     ]
    }
   ],
   "source": [
    "#####################################\n",
    "#                 5                 #\n",
    "#####################################\n",
    "\n",
    "## Find the number of surprising data points (enrollments missing from\n",
    "## the engagement table) that remain, if any.\n",
    "\n",
    "count = 0\n",
    "for i in enrollments:\n",
    "    for j in data:\n",
    "        if i['account_key'] == j and i['join_date'] != i['cancel_date']:\n",
    "            count += 1\n",
    "            print(i)\n",
    "print(count)"
   ]
  },
  {
   "cell_type": "markdown",
   "metadata": {},
   "source": [
    "## Tracking Down the Remaining Problems"
   ]
  },
  {
   "cell_type": "code",
   "execution_count": 11,
   "metadata": {},
   "outputs": [
    {
     "data": {
      "text/plain": [
       "6"
      ]
     },
     "execution_count": 11,
     "metadata": {},
     "output_type": "execute_result"
    }
   ],
   "source": [
    "# Create a set of the account keys for all Udacity test accounts\n",
    "udacity_test_accounts = set()\n",
    "for enrollment in enrollments:\n",
    "    if enrollment['is_udacity']:\n",
    "        udacity_test_accounts.add(enrollment['account_key'])\n",
    "len(udacity_test_accounts)"
   ]
  },
  {
   "cell_type": "code",
   "execution_count": 12,
   "metadata": {},
   "outputs": [],
   "source": [
    "# Given some data with an account_key field, removes any records corresponding to Udacity test accounts\n",
    "def remove_udacity_accounts(data):\n",
    "    non_udacity_data = []\n",
    "    for data_point in data:\n",
    "        if data_point['account_key'] not in udacity_test_accounts:\n",
    "            non_udacity_data.append(data_point)\n",
    "    return non_udacity_data"
   ]
  },
  {
   "cell_type": "code",
   "execution_count": 13,
   "metadata": {},
   "outputs": [
    {
     "name": "stdout",
     "output_type": "stream",
     "text": [
      "1622\n",
      "135656\n",
      "3634\n"
     ]
    }
   ],
   "source": [
    "# Remove Udacity test accounts from all three tables\n",
    "non_udacity_enrollments = remove_udacity_accounts(enrollments)\n",
    "non_udacity_engagement = remove_udacity_accounts(daily_engagement)\n",
    "non_udacity_submissions = remove_udacity_accounts(project_submissions)\n",
    "\n",
    "print(len(non_udacity_enrollments))\n",
    "print(len(non_udacity_engagement))\n",
    "print(len(non_udacity_submissions))"
   ]
  },
  {
   "cell_type": "markdown",
   "metadata": {},
   "source": [
    "## Refining the Question"
   ]
  },
  {
   "cell_type": "code",
   "execution_count": 14,
   "metadata": {},
   "outputs": [
    {
     "name": "stdout",
     "output_type": "stream",
     "text": [
      "995\n"
     ]
    }
   ],
   "source": [
    "#####################################\n",
    "#                 6                 #\n",
    "#####################################\n",
    "\n",
    "## Create a dictionary named paid_students containing all students who either\n",
    "## haven't canceled yet or who remained enrolled for more than 7 days. The keys\n",
    "## should be account keys, and the values should be the date the student enrolled.\n",
    "\n",
    "paid_students = {}\n",
    "for i in non_udacity_enrollments:\n",
    "    if i['days_to_cancel'] == None or i['days_to_cancel'] > 7:\n",
    "        account_key = i['account_key']\n",
    "        enrollment_date = i['join_date']\n",
    "        if account_key not in paid_students or \\\n",
    "        enrollment_date > paid_students[account_key]:\n",
    "            paid_students[account_key] = enrollment_date\n",
    "print(len(paid_students))"
   ]
  },
  {
   "cell_type": "markdown",
   "metadata": {},
   "source": [
    "## Getting Data from First Week"
   ]
  },
  {
   "cell_type": "code",
   "execution_count": 15,
   "metadata": {},
   "outputs": [],
   "source": [
    "# Takes a student's join date and the date of a specific engagement record,\n",
    "# and returns True if that engagement record happened within one week\n",
    "# of the student joining.\n",
    "def within_one_week(join_date, engagement_date):\n",
    "    time_delta = engagement_date - join_date\n",
    "    return time_delta.days < 7 and time_delta.days >= 0"
   ]
  },
  {
   "cell_type": "code",
   "execution_count": 16,
   "metadata": {},
   "outputs": [
    {
     "name": "stdout",
     "output_type": "stream",
     "text": [
      "OrderedDict([('utc_date', datetime.datetime(2015, 3, 10, 0, 0)), ('num_courses_visited', 0), ('total_minutes_visited', 0.0), ('lessons_completed', 0), ('projects_completed', 0), ('account_key', '429')])\n"
     ]
    }
   ],
   "source": [
    "#####################################\n",
    "#                 7                 #\n",
    "#####################################\n",
    "\n",
    "## Create a list of rows from the engagement table including only rows where\n",
    "## the student is one of the paid students you just found, and the date is within\n",
    "## one week of the student's joint date.\n",
    "\n",
    "\n",
    "paid_engagement_in_first_week = []\n",
    "for key, value in paid_students.items():\n",
    "    for j in non_udacity_engagement:\n",
    "        if j['account_key'] == key and within_one_week(value, j['utc_date']):\n",
    "            paid_engagement_in_first_week += [j]\n",
    "            \n",
    "print(paid_engagement_in_first_week[0])\n"
   ]
  },
  {
   "cell_type": "markdown",
   "metadata": {},
   "source": [
    "## Exploring Student Engagement"
   ]
  },
  {
   "cell_type": "code",
   "execution_count": 94,
   "metadata": {},
   "outputs": [],
   "source": [
    "from collections import defaultdict\n",
    "\n",
    "# Create a dictionary of engagement grouped by student.\n",
    "# The keys are account keys, and the values are lists of engagement records.\n",
    "engagement_by_account = defaultdict(list)\n",
    "for engagement_record in paid_engagement_in_first_week:\n",
    "    account_key = engagement_record['account_key']\n",
    "    engagement_by_account[account_key].append(engagement_record)"
   ]
  },
  {
   "cell_type": "code",
   "execution_count": 95,
   "metadata": {},
   "outputs": [],
   "source": [
    "# Create a dictionary with the total minutes each student spent in the classroom during the first week.\n",
    "# The keys are account keys, and the values are numbers (total minutes)\n",
    "\n",
    "def total(data, chr):\n",
    "    total_amt = {}\n",
    "    for account_key, engagement_for_student in data.items():\n",
    "        total = 0 \n",
    "        for i in engagement_for_student:\n",
    "            total += i[chr]\n",
    "        total_amt[account_key] = total\n",
    "    return(total_amt)"
   ]
  },
  {
   "cell_type": "code",
   "execution_count": 96,
   "metadata": {},
   "outputs": [
    {
     "name": "stdout",
     "output_type": "stream",
     "text": [
      "Mean: 306.70832675342825\n",
      "Standard deviation: 412.99693340852957\n",
      "Minimum: 0.0\n",
      "Maximum: 3564.7332644989997\n"
     ]
    }
   ],
   "source": [
    "import numpy as np\n",
    "\n",
    "# Summarize the data about minutes spent in the classroom\n",
    "\n",
    "def descriptive_stat(data, chr):\n",
    "    total_m = [] \n",
    "    for value in total(data, chr).values():\n",
    "        total_m += [value]\n",
    "    print('Mean:', np.mean(total_m))\n",
    "    print('Standard deviation:', np.std(total_m))\n",
    "    print('Minimum:', np.min(total_m))\n",
    "    print('Maximum:', np.max(total_m))\n",
    "descriptive_stat(engagement_by_account, 'total_minutes_visited')"
   ]
  },
  {
   "cell_type": "markdown",
   "metadata": {},
   "source": [
    "## Debugging Data Analysis Code"
   ]
  },
  {
   "cell_type": "code",
   "execution_count": 99,
   "metadata": {},
   "outputs": [
    {
     "name": "stdout",
     "output_type": "stream",
     "text": [
      "[OrderedDict([('utc_date', datetime.datetime(2015, 7, 9, 0, 0)), ('num_courses_visited', 4), ('total_minutes_visited', 850.519339666), ('lessons_completed', 4), ('projects_completed', 0), ('account_key', '163'), ('has_visited', 1)]), OrderedDict([('utc_date', datetime.datetime(2015, 7, 10, 0, 0)), ('num_courses_visited', 6), ('total_minutes_visited', 872.633923334), ('lessons_completed', 6), ('projects_completed', 0), ('account_key', '163'), ('has_visited', 1)]), OrderedDict([('utc_date', datetime.datetime(2015, 7, 11, 0, 0)), ('num_courses_visited', 2), ('total_minutes_visited', 777.018903666), ('lessons_completed', 6), ('projects_completed', 0), ('account_key', '163'), ('has_visited', 1)]), OrderedDict([('utc_date', datetime.datetime(2015, 7, 12, 0, 0)), ('num_courses_visited', 1), ('total_minutes_visited', 294.568774), ('lessons_completed', 2), ('projects_completed', 0), ('account_key', '163'), ('has_visited', 1)]), OrderedDict([('utc_date', datetime.datetime(2015, 7, 13, 0, 0)), ('num_courses_visited', 3), ('total_minutes_visited', 471.2139785), ('lessons_completed', 1), ('projects_completed', 0), ('account_key', '163'), ('has_visited', 1)]), OrderedDict([('utc_date', datetime.datetime(2015, 7, 14, 0, 0)), ('num_courses_visited', 2), ('total_minutes_visited', 298.778345333), ('lessons_completed', 1), ('projects_completed', 0), ('account_key', '163'), ('has_visited', 1)]), OrderedDict([('utc_date', datetime.datetime(2015, 7, 15, 0, 0)), ('num_courses_visited', 0), ('total_minutes_visited', 0.0), ('lessons_completed', 0), ('projects_completed', 0), ('account_key', '163'), ('has_visited', 0)])]\n"
     ]
    }
   ],
   "source": [
    "#####################################\n",
    "#                 8                 #\n",
    "#####################################\n",
    "\n",
    "## Go through a similar process as before to see if there is a problem.\n",
    "## Locate at least one surprising piece of data, output it, and take a look at it.\n",
    "\n",
    "total_minutes = [] \n",
    "for value in total(engagement_by_account, 'total_minutes_visited').values():\n",
    "    total_minutes += [value]\n",
    "\n",
    "def maximum(data, chr):\n",
    "    for key, value in total(data, chr).items():\n",
    "        if value == np.max(total_minutes):\n",
    "            return(key)\n",
    "account_max = maximum(engagement_by_account, 'total_minutes_visited')\n",
    "print(engagement_by_account[account_max])"
   ]
  },
  {
   "cell_type": "markdown",
   "metadata": {},
   "source": [
    "## Lessons Completed in First Week"
   ]
  },
  {
   "cell_type": "code",
   "execution_count": 100,
   "metadata": {},
   "outputs": [
    {
     "name": "stdout",
     "output_type": "stream",
     "text": [
      "Mean: 1.636180904522613\n",
      "Standard deviation: 3.0025612998294227\n",
      "Minimum: 0\n",
      "Maximum: 36\n"
     ]
    }
   ],
   "source": [
    "#####################################\n",
    "#                 9                 #\n",
    "#####################################\n",
    "\n",
    "## Adapt the code above to find the mean, standard deviation, minimum, and maximum for\n",
    "## the number of lessons completed by each student during the first week. Try creating\n",
    "## one or more functions to re-use the code above.\n",
    "\n",
    "descriptive_stat(engagement_by_account, 'lessons_completed')"
   ]
  },
  {
   "cell_type": "markdown",
   "metadata": {},
   "source": [
    "## Number of Visits in First Week"
   ]
  },
  {
   "cell_type": "code",
   "execution_count": 101,
   "metadata": {},
   "outputs": [
    {
     "name": "stdout",
     "output_type": "stream",
     "text": [
      "Mean: 2.8673366834170855\n",
      "Standard deviation: 2.2551980029196814\n",
      "Minimum: 0\n",
      "Maximum: 7\n"
     ]
    }
   ],
   "source": [
    "######################################\n",
    "#                 10                 #\n",
    "######################################\n",
    "\n",
    "## Find the mean, standard deviation, minimum, and maximum for the number of\n",
    "## days each student visits the classroom during the first week.\n",
    "def visited(data):\n",
    "    for value in data.values():\n",
    "        for i in value:\n",
    "            if i['num_courses_visited'] > 0:\n",
    "                i['has_visited'] = 1\n",
    "            else :\n",
    "                i['has_visited'] = 0\n",
    "            \n",
    "descriptive_stat(engagement_by_account, 'has_visited')        "
   ]
  },
  {
   "cell_type": "markdown",
   "metadata": {},
   "source": [
    "## Splitting out Passing Students"
   ]
  },
  {
   "cell_type": "code",
   "execution_count": 102,
   "metadata": {},
   "outputs": [
    {
     "name": "stdout",
     "output_type": "stream",
     "text": [
      "4527\n",
      "2392\n"
     ]
    }
   ],
   "source": [
    "######################################\n",
    "#                 11                 #\n",
    "######################################\n",
    "\n",
    "## Create two lists of engagement data for paid students in the first week.\n",
    "## The first list should contain data for students who eventually pass the\n",
    "## subway project, and the second list should contain data for students\n",
    "## who do not.\n",
    "  \n",
    "subway_project_lesson_keys = ['746169184', '3176718735']\n",
    "\n",
    "dictionary = {}\n",
    "\n",
    "for k in subway_project_lesson_keys:\n",
    "    for key, value in engagement_by_account.items():\n",
    "        for j in non_udacity_submissions:\n",
    "            if j['account_key'] == key and j['lesson_key'] == k:\n",
    "                if j['assigned_rating'] == 'PASSED' or j['assigned_rating'] == 'DISTINCTION':\n",
    "                    dictionary[key] = value\n",
    "\n",
    "result_passing = []\n",
    "for i in dictionary.values():\n",
    "     result_passing += i\n",
    "print(len(result_passing))\n",
    "\n",
    "dict2 = {}\n",
    "for k in subway_project_lesson_keys:\n",
    "    for key, value in engagement_by_account.items():\n",
    "        for j in non_udacity_submissions:\n",
    "              if key not in dictionary.keys() and j['lesson_key'] == k and j['assigned_rating'] == 'INCOMPLETE':\n",
    "                    dict2[key] = value\n",
    "\n",
    "result_non_passing = []\n",
    "for i in dict2.values():\n",
    "    result_non_passing += i\n",
    "print(len(result_non_passing))\n",
    "\n"
   ]
  },
  {
   "cell_type": "markdown",
   "metadata": {},
   "source": [
    "## Comparing the Two Student Groups"
   ]
  },
  {
   "cell_type": "code",
   "execution_count": 104,
   "metadata": {},
   "outputs": [
    {
     "name": "stdout",
     "output_type": "stream",
     "text": [
      "Students, who passed the subway project\n",
      "minutes, spent for studing\n",
      "Mean: 394.5860464835087\n",
      "Standard deviation: 448.4995193265521\n",
      "Minimum: 0.0\n",
      "Maximum: 3564.7332644989997\n",
      "lessons, completed\n",
      "Mean: 2.052550231839258\n",
      "Standard deviation: 3.1422270555779344\n",
      "Minimum: 0\n",
      "Maximum: 36\n",
      "students, who visited site:\n",
      "Mean: 3.384853168469861\n",
      "Standard deviation: 2.2588214709184595\n",
      "Minimum: 0\n",
      "Maximum: 7\n",
      "Students, who do not pass the subway project\n",
      "minutes, spent for studing\n",
      "Mean: 143.32647426675584\n",
      "Standard deviation: 269.5386190114951\n",
      "Minimum: 0.0\n",
      "Maximum: 1768.5227493319999\n",
      "lessons, completed\n",
      "Mean: 0.8620689655172413\n",
      "Standard deviation: 2.5491599418312028\n",
      "Minimum: 0\n",
      "Maximum: 27\n",
      "students, who visited site:\n",
      "Mean: 1.9051724137931034\n",
      "Standard deviation: 1.9057314413619049\n",
      "Minimum: 0\n",
      "Maximum: 7\n"
     ]
    }
   ],
   "source": [
    "######################################\n",
    "#                 12                 #\n",
    "######################################\n",
    "\n",
    "## Compute some metrics you're interested in and see how they differ for\n",
    "## students who pass the subway project vs. students who don't. A good\n",
    "## starting point would be the metrics we looked at earlier (minutes spent\n",
    "## in the classroom, lessons completed, and days visited).\n",
    "\n",
    "print('Students, who passed the subway project')\n",
    "print('minutes, spent for studing')\n",
    "descriptive_stat(dictionary, 'total_minutes_visited')\n",
    "\n",
    "print('lessons, completed')\n",
    "descriptive_stat(dictionary, 'lessons_completed')\n",
    "\n",
    "print('students, who visited site:')\n",
    "visited(dictionary)\n",
    "descriptive_stat(dictionary, 'has_visited')\n",
    "\n",
    "print('Students, who do not pass the subway project')\n",
    "print('minutes, spent for studing')\n",
    "descriptive_stat(dict2, 'total_minutes_visited')\n",
    "\n",
    "print('lessons, completed')\n",
    "descriptive_stat(dict2, 'lessons_completed')\n",
    "\n",
    "print('students, who visited site:')\n",
    "visited(dict2)\n",
    "descriptive_stat(dict2, 'has_visited')\n"
   ]
  },
  {
   "cell_type": "code",
   "execution_count": 105,
   "metadata": {},
   "outputs": [
    {
     "data": {
      "text/plain": [
       "(array([3., 0., 0., 2., 0., 0., 2., 0., 0., 1.]),\n",
       " array([1. , 1.3, 1.6, 1.9, 2.2, 2.5, 2.8, 3.1, 3.4, 3.7, 4. ]),\n",
       " <a list of 10 Patch objects>)"
      ]
     },
     "execution_count": 105,
     "metadata": {},
     "output_type": "execute_result"
    },
    {
     "data": {
      "image/png": "[encoded data removed]",
      "text/plain": [
       "<Figure size 432x288 with 1 Axes>"
      ]
     },
     "metadata": {
      "needs_background": "light"
     },
     "output_type": "display_data"
    }
   ],
   "source": [
    "data = [1, 2, 1, 3, 3, 1, 4, 2]\n",
    "\n",
    "import matplotlib.pyplot as plt\n",
    "plt.hist(data)"
   ]
  },
  {
   "cell_type": "markdown",
   "metadata": {},
   "source": [
    "## Making Histograms"
   ]
  },
  {
   "cell_type": "code",
   "execution_count": 106,
   "metadata": {},
   "outputs": [
    {
     "name": "stdout",
     "output_type": "stream",
     "text": [
      "Histogram of total minutes spent for students who passed project\n"
     ]
    },
    {
     "data": {
      "text/plain": [
       "(array([370., 155.,  83.,  19.,  10.,   4.,   2.,   3.,   0.,   1.]),\n",
       " array([   0.        ,  356.47332645,  712.9466529 , 1069.41997935,\n",
       "        1425.8933058 , 1782.36663225, 2138.8399587 , 2495.31328515,\n",
       "        2851.7866116 , 3208.25993805, 3564.7332645 ]),\n",
       " <a list of 10 Patch objects>)"
      ]
     },
     "execution_count": 106,
     "metadata": {},
     "output_type": "execute_result"
    },
    {
     "data": {
      "image/png": "[encoded data removed]",
      "text/plain": [
       "<Figure size 432x288 with 1 Axes>"
      ]
     },
     "metadata": {
      "needs_background": "light"
     },
     "output_type": "display_data"
    }
   ],
   "source": [
    "######################################\n",
    "#                 13                 #\n",
    "######################################\n",
    "\n",
    "## Make histograms of the three metrics we looked at earlier for both\n",
    "## students who passed the subway project and students who didn't. You\n",
    "## might also want to make histograms of any other metrics you examined.\n",
    "\n",
    "import matplotlib.pyplot as plt\n",
    "def get_data(data, chr):\n",
    "    total_m = [] \n",
    "    for value in total(data, chr).values():\n",
    "        total_m += [value]\n",
    "    return(total_m)\n",
    "\n",
    "print('Histogram of total minutes spent for students who passed project')\n",
    "plt.hist(get_data(dictionary, 'total_minutes_visited'))"
   ]
  },
  {
   "cell_type": "code",
   "execution_count": 107,
   "metadata": {},
   "outputs": [
    {
     "name": "stdout",
     "output_type": "stream",
     "text": [
      "Histogram of lessons completed for students who passed project\n"
     ]
    },
    {
     "data": {
      "text/plain": [
       "(array([516.,  97.,  23.,   4.,   3.,   3.,   0.,   0.,   0.,   1.]),\n",
       " array([ 0. ,  3.6,  7.2, 10.8, 14.4, 18. , 21.6, 25.2, 28.8, 32.4, 36. ]),\n",
       " <a list of 10 Patch objects>)"
      ]
     },
     "execution_count": 107,
     "metadata": {},
     "output_type": "execute_result"
    },
    {
     "data": {
      "image/png": "[encoded data removed]",
      "text/plain": [
       "<Figure size 432x288 with 1 Axes>"
      ]
     },
     "metadata": {
      "needs_background": "light"
     },
     "output_type": "display_data"
    }
   ],
   "source": [
    "print('Histogram of lessons completed for students who passed project')\n",
    "plt.hist(get_data(dictionary, 'lessons_completed'))"
   ]
  },
  {
   "cell_type": "code",
   "execution_count": 108,
   "metadata": {},
   "outputs": [
    {
     "name": "stdout",
     "output_type": "stream",
     "text": [
      "Histogram of visiting students who passed project\n"
     ]
    },
    {
     "data": {
      "text/plain": [
       "(array([87., 82., 79.,  0., 91., 77.,  0., 85., 78., 68.]),\n",
       " array([0. , 0.7, 1.4, 2.1, 2.8, 3.5, 4.2, 4.9, 5.6, 6.3, 7. ]),\n",
       " <a list of 10 Patch objects>)"
      ]
     },
     "execution_count": 108,
     "metadata": {},
     "output_type": "execute_result"
    },
    {
     "data": {
      "image/png": "[encoded data removed]",
      "text/plain": [
       "<Figure size 432x288 with 1 Axes>"
      ]
     },
     "metadata": {
      "needs_background": "light"
     },
     "output_type": "display_data"
    }
   ],
   "source": [
    "print('Histogram of visiting students who passed project')\n",
    "plt.hist(get_data(dictionary, 'has_visited'))"
   ]
  },
  {
   "cell_type": "code",
   "execution_count": 109,
   "metadata": {},
   "outputs": [
    {
     "name": "stdout",
     "output_type": "stream",
     "text": [
      "Histogram of total minutes spent for students who did not pass project\n"
     ]
    },
    {
     "data": {
      "text/plain": [
       "(array([272.,  34.,  17.,   9.,   6.,   2.,   1.,   5.,   0.,   2.]),\n",
       " array([   0.        ,  176.85227493,  353.70454987,  530.5568248 ,\n",
       "         707.40909973,  884.26137467, 1061.1136496 , 1237.96592453,\n",
       "        1414.81819947, 1591.6704744 , 1768.52274933]),\n",
       " <a list of 10 Patch objects>)"
      ]
     },
     "execution_count": 109,
     "metadata": {},
     "output_type": "execute_result"
    },
    {
     "data": {
      "image/png": "[encoded data removed]",
      "text/plain": [
       "<Figure size 432x288 with 1 Axes>"
      ]
     },
     "metadata": {
      "needs_background": "light"
     },
     "output_type": "display_data"
    }
   ],
   "source": [
    "print('Histogram of total minutes spent for students who did not pass project')\n",
    "plt.hist(get_data(dict2, 'total_minutes_visited'))"
   ]
  },
  {
   "cell_type": "code",
   "execution_count": 110,
   "metadata": {},
   "outputs": [
    {
     "name": "stdout",
     "output_type": "stream",
     "text": [
      "Histogram of lessons completed for students who did not pass project\n"
     ]
    },
    {
     "data": {
      "text/plain": [
       "(array([317.,  17.,   6.,   4.,   1.,   1.,   0.,   1.,   0.,   1.]),\n",
       " array([ 0. ,  2.7,  5.4,  8.1, 10.8, 13.5, 16.2, 18.9, 21.6, 24.3, 27. ]),\n",
       " <a list of 10 Patch objects>)"
      ]
     },
     "execution_count": 110,
     "metadata": {},
     "output_type": "execute_result"
    },
    {
     "data": {
      "image/png": "[encoded data removed]",
      "text/plain": [
       "<Figure size 432x288 with 1 Axes>"
      ]
     },
     "metadata": {
      "needs_background": "light"
     },
     "output_type": "display_data"
    }
   ],
   "source": [
    "print('Histogram of lessons completed for students who did not pass project')\n",
    "plt.hist(get_data(dict2, 'lessons_completed'))"
   ]
  },
  {
   "cell_type": "code",
   "execution_count": 111,
   "metadata": {},
   "outputs": [
    {
     "name": "stdout",
     "output_type": "stream",
     "text": [
      "Histogram of visiting for students who did not pass project\n"
     ]
    },
    {
     "data": {
      "text/plain": [
       "(array([97., 90., 56.,  0., 41., 15.,  0., 24., 17.,  8.]),\n",
       " array([0. , 0.7, 1.4, 2.1, 2.8, 3.5, 4.2, 4.9, 5.6, 6.3, 7. ]),\n",
       " <a list of 10 Patch objects>)"
      ]
     },
     "execution_count": 111,
     "metadata": {},
     "output_type": "execute_result"
    },
    {
     "data": {
      "image/png": "[encoded data removed]",
      "text/plain": [
       "<Figure size 432x288 with 1 Axes>"
      ]
     },
     "metadata": {
      "needs_background": "light"
     },
     "output_type": "display_data"
    }
   ],
   "source": [
    "print('Histogram of visiting for students who did not pass project')\n",
    "plt.hist(get_data(dict2, 'has_visited'))"
   ]
  },
  {
   "cell_type": "markdown",
   "metadata": {},
   "source": [
    "## Improving Plots and Sharing Findings"
   ]
  },
  {
   "cell_type": "code",
   "execution_count": 112,
   "metadata": {},
   "outputs": [
    {
     "data": {
      "text/plain": [
       "Text(0.5, 1.0, 'Histogram of students who passed project, total minutes spent per week')"
      ]
     },
     "execution_count": 112,
     "metadata": {},
     "output_type": "execute_result"
    },
    {
     "data": {
      "image/png": "[encoded data removed]",
      "text/plain": [
       "<Figure size 432x288 with 1 Axes>"
      ]
     },
     "metadata": {
      "needs_background": "light"
     },
     "output_type": "display_data"
    }
   ],
   "source": [
    "######################################\n",
    "#                 14                 #\n",
    "######################################\n",
    "\n",
    "## Make a more polished version of at least one of your visualizations\n",
    "## from earlier. Try importing the seaborn library to make the visualization\n",
    "## look better, adding axis labels and a title, and changing one or more\n",
    "## arguments to the hist() function.\n",
    "\n",
    "\n",
    "import seaborn as sns\n",
    "sns.distplot(get_data(dictionary, 'total_minutes_visited'), kde=False, color = 'g')\n",
    "plt.xlabel('Total minutes visited per student')\n",
    "plt.ylabel('Quantity of students')\n",
    "plt.title('Histogram of students who passed project, total minutes spent per week')"
   ]
  },
  {
   "cell_type": "code",
   "execution_count": 116,
   "metadata": {},
   "outputs": [
    {
     "data": {
      "text/plain": [
       "Text(0.5, 1.0, 'Histogram of visiting students who passed project')"
      ]
     },
     "execution_count": 116,
     "metadata": {},
     "output_type": "execute_result"
    },
    {
     "data": {
      "image/png": "[encoded data removed]",
      "text/plain": [
       "<Figure size 432x288 with 1 Axes>"
      ]
     },
     "metadata": {
      "needs_background": "light"
     },
     "output_type": "display_data"
    }
   ],
   "source": [
    "sns.distplot(get_data(dictionary, 'has_visited'), kde=False, rug = True, color = 'b', bins = 8)\n",
    "plt.xlabel('Amount of times, which each student visited site per first week')\n",
    "plt.title('Histogram of visiting students who passed project')"
   ]
  },
  {
   "cell_type": "code",
   "execution_count": 117,
   "metadata": {},
   "outputs": [
    {
     "data": {
      "text/plain": [
       "Text(0.5, 1.0, 'Histogram of visiting students who did not pass project')"
      ]
     },
     "execution_count": 117,
     "metadata": {},
     "output_type": "execute_result"
    },
    {
     "data": {
      "image/png": "[encoded data removed]",
      "text/plain": [
       "<Figure size 432x288 with 1 Axes>"
      ]
     },
     "metadata": {
      "needs_background": "light"
     },
     "output_type": "display_data"
    }
   ],
   "source": [
    "sns.distplot(get_data(dict2, 'has_visited'), kde=False, rug = True, color = 'y', bins = 8)\n",
    "plt.xlabel('Amount of times, which each student visited site per first week')\n",
    "plt.title('Histogram of visiting students who did not pass project')"
   ]
  }
 ],
 "metadata": {
  "kernelspec": {
   "display_name": "Python 3",
   "language": "python",
   "name": "python3"
  },
  "language_info": {
   "codemirror_mode": {
    "name": "ipython",
    "version": 3
   },
   "file_extension": ".py",
   "mimetype": "text/x-python",
   "name": "python",
   "nbconvert_exporter": "python",
   "pygments_lexer": "ipython3",
   "version": "3.7.1"
  }
 },
 "nbformat": 4,
 "nbformat_minor": 1
}
